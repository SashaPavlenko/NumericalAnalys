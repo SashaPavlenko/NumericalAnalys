{
 "cells": [
  {
   "cell_type": "code",
   "execution_count": 1,
   "metadata": {
    "pycharm": {
     "is_executing": false
    }
   },
   "outputs": [],
   "source": [
    "from lab5 import funcs"
   ]
  },
  {
   "cell_type": "code",
   "execution_count": 8,
   "metadata": {
    "pycharm": {
     "is_executing": false,
     "name": "#%%\n"
    }
   },
   "outputs": [
    {
     "ename": "TypeError",
     "evalue": "my_print() got an unexpected keyword argument 'print_out'",
     "output_type": "error",
     "traceback": [
      "\u001b[1;31m---------------------------------------------------------------------------\u001b[0m",
      "\u001b[1;31mTypeError\u001b[0m                                 Traceback (most recent call last)",
      "\u001b[1;32m~\\AppData\\Local\\Temp/ipykernel_27160/3838309633.py\u001b[0m in \u001b[0;36m<module>\u001b[1;34m\u001b[0m\n\u001b[0;32m     12\u001b[0m     \u001b[0mx_runge\u001b[0m\u001b[1;33m,\u001b[0m \u001b[0my_runge\u001b[0m \u001b[1;33m=\u001b[0m \u001b[0mans\u001b[0m\u001b[1;33m[\u001b[0m\u001b[1;34m'Runge'\u001b[0m\u001b[1;33m]\u001b[0m\u001b[1;33m\u001b[0m\u001b[1;33m\u001b[0m\u001b[0m\n\u001b[0;32m     13\u001b[0m \u001b[1;33m\u001b[0m\u001b[0m\n\u001b[1;32m---> 14\u001b[1;33m     \u001b[0md\u001b[0m \u001b[1;33m=\u001b[0m \u001b[0mfuncs\u001b[0m\u001b[1;33m.\u001b[0m\u001b[0mmy_print\u001b[0m\u001b[1;33m(\u001b[0m\u001b[0mn\u001b[0m\u001b[1;33m,\u001b[0m \u001b[0mx_ex\u001b[0m\u001b[1;33m,\u001b[0m \u001b[0mfuncs\u001b[0m\u001b[1;33m.\u001b[0m\u001b[0minsert_values_to_func\u001b[0m\u001b[1;33m(\u001b[0m\u001b[0mf_exact\u001b[0m\u001b[1;33m,\u001b[0m \u001b[0mx_ex\u001b[0m\u001b[1;33m)\u001b[0m\u001b[1;33m,\u001b[0m \u001b[0my_ex\u001b[0m\u001b[1;33m,\u001b[0m \u001b[0my_im\u001b[0m\u001b[1;33m,\u001b[0m \u001b[0my_heun\u001b[0m\u001b[1;33m,\u001b[0m \u001b[0my_runge\u001b[0m\u001b[1;33m,\u001b[0m \u001b[0mEPS\u001b[0m\u001b[1;33m=\u001b[0m\u001b[0mEPS\u001b[0m\u001b[1;33m,\u001b[0m \u001b[0mprint_out\u001b[0m\u001b[1;33m=\u001b[0m\u001b[1;32mFalse\u001b[0m\u001b[1;33m)\u001b[0m\u001b[1;33m\u001b[0m\u001b[1;33m\u001b[0m\u001b[0m\n\u001b[0m\u001b[0;32m     15\u001b[0m \u001b[1;33m\u001b[0m\u001b[0m\n\u001b[0;32m     16\u001b[0m     norms = [\n",
      "\u001b[1;31mTypeError\u001b[0m: my_print() got an unexpected keyword argument 'print_out'"
     ]
    }
   ],
   "source": [
    "5\n",
    "\n",
    "y_check = -x*x+sy.exp(x*x)-1\n",
    "f_exact = lambda val: (y_check).subs(x, val)\n",
    "\n",
    "for n in [10, 100, 500]:\n",
    "    ans = funcs.evaluated_values(f, y0, a, b, n, EPS)\n",
    "\n",
    "    x_ex, y_ex = ans['explicit']\n",
    "    x_im, y_im = ans['implicit']\n",
    "    x_heun, y_heun = ans['Heun']\n",
    "    x_runge, y_runge = ans['Runge']\n",
    "\n",
    "    d = funcs.my_print(n, x_ex, funcs.insert_values_to_func(f_exact, x_ex), y_ex, y_im, y_heun, y_runge, EPS=EPS, print_out=False)\n",
    "\n",
    "    norms = [\n",
    "        funcs.eval_norm(x_ex, y_ex, f_exact),\n",
    "        funcs.eval_norm(x_im, y_im, f_exact),\n",
    "        funcs.eval_norm(x_heun, y_heun, f_exact),\n",
    "        funcs.eval_norm(x_runge, y_runge, f_exact),\n",
    "    ]\n",
    "\n",
    "    out = \"\"\"\n",
    "    Тесты для n = {n}\n",
    "    Погрешность явного метода Эйлера: {:e}\n",
    "    Погрешность неявного метода Эйлера: {:e}\n",
    "    Погрешность метода Хойна: {:e}\n",
    "    Погрешность метода Рунге-Кутта: {:e}\n",
    "    \"\"\".format(n=n, *norms)\n",
    "\n",
    "    print(out)"
   ]
  },
  {
   "cell_type": "code",
   "execution_count": 3,
   "metadata": {
    "pycharm": {
     "is_executing": false,
     "name": "#%%\n"
    }
   },
   "outputs": [
    {
     "name": "stdout",
     "output_type": "stream",
     "text": [
      " i  x[i]  точное   Явный  Неявный   Хойне  Рунге-Кутте\n",
      " 0  1.00 0.71828 0.71828  0.71828 0.71828      0.71828\n",
      " 1  1.01 0.75337 0.75265  0.75333 0.75299      0.75337\n",
      " 2  1.02 0.78995 0.78846  0.78988 0.78917      0.78995\n",
      " 3  1.03 0.82807 0.82577  0.82798 0.82687      0.82807\n",
      " 4  1.04 0.86779 0.86463  0.86769 0.86616      0.86779\n",
      " 5  1.05 0.90919 0.90511  0.90908 0.90710      0.90919\n",
      " 6  1.06 0.95231 0.94727  0.95221 0.94974      0.95231\n",
      " 7  1.07 0.99723 0.99117  0.99715 0.99416      0.99723\n",
      " 8  1.08 1.04401 1.03689  1.04397 1.04043      1.04401\n",
      " 9  1.09 1.09274 1.08448  1.09275 1.08861      1.09274\n"
     ]
    }
   ],
   "source": [
    "df = funcs.my_print(n, x_ex, funcs.insert_values_to_func(f_exact, x_ex), y_ex, y_im, y_heun, y_runge, EPS=EPS)\n",
    "\n"
   ]
  },
  {
   "cell_type": "code",
   "execution_count": 4,
   "metadata": {
    "pycharm": {
     "is_executing": false
    }
   },
   "outputs": [
    {
     "data": {
      "text/html": [
       "<div>\n",
       "<style scoped>\n",
       "    .dataframe tbody tr th:only-of-type {\n",
       "        vertical-align: middle;\n",
       "    }\n",
       "\n",
       "    .dataframe tbody tr th {\n",
       "        vertical-align: top;\n",
       "    }\n",
       "\n",
       "    .dataframe thead th {\n",
       "        text-align: right;\n",
       "    }\n",
       "</style>\n",
       "<table border=\"1\" class=\"dataframe\">\n",
       "  <thead>\n",
       "    <tr style=\"text-align: right;\">\n",
       "      <th></th>\n",
       "      <th>i</th>\n",
       "      <th>x[i]</th>\n",
       "      <th>точное</th>\n",
       "      <th>Явный</th>\n",
       "      <th>Неявный</th>\n",
       "      <th>Хойне</th>\n",
       "      <th>Рунге-Кутте</th>\n",
       "    </tr>\n",
       "  </thead>\n",
       "  <tbody>\n",
       "    <tr>\n",
       "      <th>0</th>\n",
       "      <td>0</td>\n",
       "      <td>1.00</td>\n",
       "      <td>0.71828</td>\n",
       "      <td>0.71828</td>\n",
       "      <td>0.71828</td>\n",
       "      <td>0.71828</td>\n",
       "      <td>0.71828</td>\n",
       "    </tr>\n",
       "    <tr>\n",
       "      <th>1</th>\n",
       "      <td>1</td>\n",
       "      <td>1.01</td>\n",
       "      <td>0.75337</td>\n",
       "      <td>0.75265</td>\n",
       "      <td>0.75333</td>\n",
       "      <td>0.75299</td>\n",
       "      <td>0.75337</td>\n",
       "    </tr>\n",
       "    <tr>\n",
       "      <th>2</th>\n",
       "      <td>2</td>\n",
       "      <td>1.02</td>\n",
       "      <td>0.78995</td>\n",
       "      <td>0.78846</td>\n",
       "      <td>0.78988</td>\n",
       "      <td>0.78917</td>\n",
       "      <td>0.78995</td>\n",
       "    </tr>\n",
       "    <tr>\n",
       "      <th>3</th>\n",
       "      <td>3</td>\n",
       "      <td>1.03</td>\n",
       "      <td>0.82807</td>\n",
       "      <td>0.82577</td>\n",
       "      <td>0.82798</td>\n",
       "      <td>0.82687</td>\n",
       "      <td>0.82807</td>\n",
       "    </tr>\n",
       "    <tr>\n",
       "      <th>4</th>\n",
       "      <td>4</td>\n",
       "      <td>1.04</td>\n",
       "      <td>0.86779</td>\n",
       "      <td>0.86463</td>\n",
       "      <td>0.86769</td>\n",
       "      <td>0.86616</td>\n",
       "      <td>0.86779</td>\n",
       "    </tr>\n",
       "    <tr>\n",
       "      <th>5</th>\n",
       "      <td>5</td>\n",
       "      <td>1.05</td>\n",
       "      <td>0.90919</td>\n",
       "      <td>0.90511</td>\n",
       "      <td>0.90908</td>\n",
       "      <td>0.90710</td>\n",
       "      <td>0.90919</td>\n",
       "    </tr>\n",
       "    <tr>\n",
       "      <th>6</th>\n",
       "      <td>6</td>\n",
       "      <td>1.06</td>\n",
       "      <td>0.95231</td>\n",
       "      <td>0.94727</td>\n",
       "      <td>0.95221</td>\n",
       "      <td>0.94974</td>\n",
       "      <td>0.95231</td>\n",
       "    </tr>\n",
       "    <tr>\n",
       "      <th>7</th>\n",
       "      <td>7</td>\n",
       "      <td>1.07</td>\n",
       "      <td>0.99723</td>\n",
       "      <td>0.99117</td>\n",
       "      <td>0.99715</td>\n",
       "      <td>0.99416</td>\n",
       "      <td>0.99723</td>\n",
       "    </tr>\n",
       "    <tr>\n",
       "      <th>8</th>\n",
       "      <td>8</td>\n",
       "      <td>1.08</td>\n",
       "      <td>1.04401</td>\n",
       "      <td>1.03689</td>\n",
       "      <td>1.04397</td>\n",
       "      <td>1.04043</td>\n",
       "      <td>1.04401</td>\n",
       "    </tr>\n",
       "    <tr>\n",
       "      <th>9</th>\n",
       "      <td>9</td>\n",
       "      <td>1.09</td>\n",
       "      <td>1.09274</td>\n",
       "      <td>1.08448</td>\n",
       "      <td>1.09275</td>\n",
       "      <td>1.08861</td>\n",
       "      <td>1.09274</td>\n",
       "    </tr>\n",
       "  </tbody>\n",
       "</table>\n",
       "</div>"
      ],
      "text/plain": [
       "   i  x[i]   точное    Явный  Неявный    Хойне  Рунге-Кутте\n",
       "0  0  1.00  0.71828  0.71828  0.71828  0.71828      0.71828\n",
       "1  1  1.01  0.75337  0.75265  0.75333  0.75299      0.75337\n",
       "2  2  1.02  0.78995  0.78846  0.78988  0.78917      0.78995\n",
       "3  3  1.03  0.82807  0.82577  0.82798  0.82687      0.82807\n",
       "4  4  1.04  0.86779  0.86463  0.86769  0.86616      0.86779\n",
       "5  5  1.05  0.90919  0.90511  0.90908  0.90710      0.90919\n",
       "6  6  1.06  0.95231  0.94727  0.95221  0.94974      0.95231\n",
       "7  7  1.07  0.99723  0.99117  0.99715  0.99416      0.99723\n",
       "8  8  1.08  1.04401  1.03689  1.04397  1.04043      1.04401\n",
       "9  9  1.09  1.09274  1.08448  1.09275  1.08861      1.09274"
      ]
     },
     "execution_count": 4,
     "metadata": {},
     "output_type": "execute_result"
    }
   ],
   "source": [
    "df"
   ]
  }
 ],
 "metadata": {
  "kernelspec": {
   "display_name": "Python 3 (ipykernel)",
   "language": "python",
   "name": "python3"
  },
  "language_info": {
   "codemirror_mode": {
    "name": "ipython",
    "version": 3
   },
   "file_extension": ".py",
   "mimetype": "text/x-python",
   "name": "python",
   "nbconvert_exporter": "python",
   "pygments_lexer": "ipython3",
   "version": "3.9.7"
  },
  "pycharm": {
   "stem_cell": {
    "cell_type": "raw",
    "metadata": {
     "collapsed": false
    },
    "source": []
   }
  }
 },
 "nbformat": 4,
 "nbformat_minor": 1
}
