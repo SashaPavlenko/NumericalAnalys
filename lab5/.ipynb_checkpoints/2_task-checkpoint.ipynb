{
 "cells": [
  {
   "cell_type": "code",
   "execution_count": 1,
   "metadata": {
    "pycharm": {
     "is_executing": false,
     "name": "#%%\n"
    }
   },
   "outputs": [],
   "source": [
    "from lab5 import funcs\n",
    "\n",
    "import sympy as sy\n",
    "import math\n",
    "from sympy import cos, sqrt, pprint\n",
    "from lab5 import funcs"
   ]
  },
  {
   "cell_type": "code",
   "execution_count": 2,
   "metadata": {
    "pycharm": {
     "is_executing": false,
     "name": "#%%\n"
    }
   },
   "outputs": [],
   "source": [
    "x = sy.Symbol('x')\n",
    "y = sy.Symbol('y')\n",
    "z = sy.Symbol('z')\n",
    "u = sy.Symbol('u')\n",
    "\n",
    "func = [\n",
    "    z,\n",
    "    u,\n",
    "    ((6*x-7)*u - 4*x*z + 4*y) / (2*x - 3),\n",
    "]\n",
    "\n",
    "beg_cond = [\n",
    "    8.16,\n",
    "    6.25,\n",
    "    2.07,\n",
    "]\n",
    "\n",
    "f = lambda x0, y0, z0, u0, number: func[number].subs(x, x0).subs(y, y0).subs(z, z0).subs(u, u0)\n",
    "\n",
    "a, b = 0, 0.75\n",
    "n = 500\n",
    "EPS = 1e-5\n",
    "df = []"
   ]
  },
  {
   "cell_type": "code",
   "execution_count": 3,
   "metadata": {
    "pycharm": {
     "is_executing": false,
     "name": "#%% \n"
    }
   },
   "outputs": [],
   "source": [
    "y_check = 0.12*x + 10.19*sy.exp(x) - 2.03*sy.exp(2*x)\n",
    "f_exact = lambda val: (y_check).subs(x, val)"
   ]
  },
  {
   "cell_type": "code",
   "execution_count": 4,
   "metadata": {
    "pycharm": {
     "is_executing": false,
     "name": "#%%\n"
    }
   },
   "outputs": [
    {
     "name": "stdout",
     "output_type": "stream",
     "text": [
      "Тесты для n = 10\n",
      "Погрешность метода Рунге-Кутта: 5.493294e-01\n",
      "Тесты для n = 100\n",
      "Погрешность метода Рунге-Кутта: 2.150137e-01\n",
      "Тесты для n = 500\n",
      "Погрешность метода Рунге-Кутта: 9.798269e-02\n"
     ]
    }
   ],
   "source": [
    "for n in [10, 100, 500]:\n",
    "    xx, ans = funcs.Runge_system(f, beg_cond, a, b, n, EPS)\n",
    "\n",
    "    df.append(funcs.system_solve_print(n, xx, funcs.insert_values_to_func(f_exact, xx, EPS), ans, EPS, print_out=False))\n",
    "\n",
    "    print(\"Тесты для n = %d\\nПогрешность метода Рунге-Кутта: %e\" %(n, funcs.eval_norm(xx, ans, f_exact)))"
   ]
  },
  {
   "cell_type": "code",
   "execution_count": 5,
   "metadata": {
    "pycharm": {
     "is_executing": false,
     "name": "#%%\n"
    }
   },
   "outputs": [
    {
     "data": {
      "text/html": [
       "<div>\n",
       "<style scoped>\n",
       "    .dataframe tbody tr th:only-of-type {\n",
       "        vertical-align: middle;\n",
       "    }\n",
       "\n",
       "    .dataframe tbody tr th {\n",
       "        vertical-align: top;\n",
       "    }\n",
       "\n",
       "    .dataframe thead th {\n",
       "        text-align: right;\n",
       "    }\n",
       "</style>\n",
       "<table border=\"1\" class=\"dataframe\">\n",
       "  <thead>\n",
       "    <tr style=\"text-align: right;\">\n",
       "      <th></th>\n",
       "      <th>i</th>\n",
       "      <th>x[i]</th>\n",
       "      <th>точное</th>\n",
       "      <th>Рунге-Кутте</th>\n",
       "    </tr>\n",
       "  </thead>\n",
       "  <tbody>\n",
       "    <tr>\n",
       "      <th>0</th>\n",
       "      <td>0</td>\n",
       "      <td>0.000</td>\n",
       "      <td>8.16000</td>\n",
       "      <td>8.16000</td>\n",
       "    </tr>\n",
       "    <tr>\n",
       "      <th>1</th>\n",
       "      <td>1</td>\n",
       "      <td>0.075</td>\n",
       "      <td>8.63412</td>\n",
       "      <td>8.64677</td>\n",
       "    </tr>\n",
       "    <tr>\n",
       "      <th>2</th>\n",
       "      <td>2</td>\n",
       "      <td>0.150</td>\n",
       "      <td>9.11688</td>\n",
       "      <td>9.14609</td>\n",
       "    </tr>\n",
       "    <tr>\n",
       "      <th>3</th>\n",
       "      <td>3</td>\n",
       "      <td>0.225</td>\n",
       "      <td>9.60449</td>\n",
       "      <td>9.65512</td>\n",
       "    </tr>\n",
       "    <tr>\n",
       "      <th>4</th>\n",
       "      <td>4</td>\n",
       "      <td>0.300</td>\n",
       "      <td>10.09216</td>\n",
       "      <td>10.17017</td>\n",
       "    </tr>\n",
       "    <tr>\n",
       "      <th>5</th>\n",
       "      <td>5</td>\n",
       "      <td>0.375</td>\n",
       "      <td>10.57385</td>\n",
       "      <td>10.68659</td>\n",
       "    </tr>\n",
       "    <tr>\n",
       "      <th>6</th>\n",
       "      <td>6</td>\n",
       "      <td>0.450</td>\n",
       "      <td>11.04211</td>\n",
       "      <td>11.19858</td>\n",
       "    </tr>\n",
       "    <tr>\n",
       "      <th>7</th>\n",
       "      <td>7</td>\n",
       "      <td>0.525</td>\n",
       "      <td>11.48774</td>\n",
       "      <td>11.69894</td>\n",
       "    </tr>\n",
       "    <tr>\n",
       "      <th>8</th>\n",
       "      <td>8</td>\n",
       "      <td>0.600</td>\n",
       "      <td>11.89955</td>\n",
       "      <td>12.17887</td>\n",
       "    </tr>\n",
       "    <tr>\n",
       "      <th>9</th>\n",
       "      <td>9</td>\n",
       "      <td>0.675</td>\n",
       "      <td>12.26392</td>\n",
       "      <td>12.62763</td>\n",
       "    </tr>\n",
       "  </tbody>\n",
       "</table>\n",
       "</div>"
      ],
      "text/plain": [
       "   i   x[i]    точное  Рунге-Кутте\n",
       "0  0  0.000   8.16000      8.16000\n",
       "1  1  0.075   8.63412      8.64677\n",
       "2  2  0.150   9.11688      9.14609\n",
       "3  3  0.225   9.60449      9.65512\n",
       "4  4  0.300  10.09216     10.17017\n",
       "5  5  0.375  10.57385     10.68659\n",
       "6  6  0.450  11.04211     11.19858\n",
       "7  7  0.525  11.48774     11.69894\n",
       "8  8  0.600  11.89955     12.17887\n",
       "9  9  0.675  12.26392     12.62763"
      ]
     },
     "execution_count": 5,
     "metadata": {},
     "output_type": "execute_result"
    }
   ],
   "source": [
    "df[0]"
   ]
  }
 ],
 "metadata": {
  "kernelspec": {
   "display_name": "Python 3 (ipykernel)",
   "language": "python",
   "name": "python3"
  },
  "language_info": {
   "codemirror_mode": {
    "name": "ipython",
    "version": 3
   },
   "file_extension": ".py",
   "mimetype": "text/x-python",
   "name": "python",
   "nbconvert_exporter": "python",
   "pygments_lexer": "ipython3",
   "version": "3.9.7"
  },
  "pycharm": {
   "stem_cell": {
    "cell_type": "raw",
    "metadata": {
     "collapsed": false
    },
    "source": []
   }
  }
 },
 "nbformat": 4,
 "nbformat_minor": 1
}
